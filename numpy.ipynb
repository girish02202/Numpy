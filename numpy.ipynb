{
 "cells": [
  {
   "cell_type": "markdown",
   "id": "54dffc3e-6511-4970-9eb0-31d6f3085eca",
   "metadata": {},
   "source": [
    "                                Getting familiarity with Numpy"
   ]
  },
  {
   "cell_type": "code",
   "execution_count": 7,
   "id": "e38ff806-d540-4141-a3b3-8f425b81dc33",
   "metadata": {},
   "outputs": [],
   "source": [
    "import numpy as np"
   ]
  },
  {
   "cell_type": "code",
   "execution_count": 8,
   "id": "d81efc98-60c5-4bd0-a162-c92ba0b9f3b7",
   "metadata": {},
   "outputs": [
    {
     "name": "stdout",
     "output_type": "stream",
     "text": [
      "[1 2 3 4 5 6 7 8 9]\n"
     ]
    }
   ],
   "source": [
    "# Creating a 1D array\n",
    "arr1 = np.array([1, 2, 3, 4, 5,6,7,8,9])\n",
    "print(arr1)"
   ]
  },
  {
   "cell_type": "code",
   "execution_count": 9,
   "id": "0282c1f7-b134-4111-bd6f-b3437073b837",
   "metadata": {},
   "outputs": [
    {
     "name": "stdout",
     "output_type": "stream",
     "text": [
      "[[1 2 3]\n",
      " [4 5 6]\n",
      " [7 8 9]]\n"
     ]
    }
   ],
   "source": [
    "# Creating a 2D array\n",
    "arr2 = np.array([[1, 2, 3], [4, 5, 6], [7, 8, 9]])\n",
    "print(arr2)"
   ]
  },
  {
   "cell_type": "markdown",
   "id": "41ac0f32-6a76-42de-8c00-1c3c82711b66",
   "metadata": {},
   "source": [
    "                                      # Basic operations"
   ]
  },
  {
   "cell_type": "code",
   "execution_count": 11,
   "id": "1e169243-27af-469d-bb75-b850ff5473bf",
   "metadata": {},
   "outputs": [
    {
     "name": "stdout",
     "output_type": "stream",
     "text": [
      "[11 12 13 14 15 16 17 18 19]\n"
     ]
    }
   ],
   "source": [
    "array_sum=arr1+ 10\n",
    "print(array_sum)"
   ]
  },
  {
   "cell_type": "code",
   "execution_count": 12,
   "id": "34dbbabf-4c3a-4183-92e1-d582d0e96f25",
   "metadata": {},
   "outputs": [
    {
     "name": "stdout",
     "output_type": "stream",
     "text": [
      "[[ 5 10 15]\n",
      " [20 25 30]\n",
      " [35 40 45]]\n"
     ]
    }
   ],
   "source": [
    "array_product=arr2* 5\n",
    "print(array_product)"
   ]
  },
  {
   "cell_type": "markdown",
   "id": "aa167b95-5380-4f32-b1dd-5fbe18fd1101",
   "metadata": {},
   "source": [
    "                                     # array properties"
   ]
  },
  {
   "cell_type": "code",
   "execution_count": 20,
   "id": "184ecf87-dd0f-4090-87b9-52deab563e85",
   "metadata": {},
   "outputs": [
    {
     "name": "stdout",
     "output_type": "stream",
     "text": [
      "(3, 3)\n",
      "int64\n",
      "2\n"
     ]
    }
   ],
   "source": [
    "print(arr2.shape)\n",
    "print(arr2.dtype)\n",
    "print(arr2.ndim)"
   ]
  },
  {
   "cell_type": "markdown",
   "id": "047f0797-fd6f-4279-8a1f-b1e4b16614a6",
   "metadata": {},
   "source": [
    "                                     Data Manipulation"
   ]
  },
  {
   "cell_type": "code",
   "execution_count": 26,
   "id": "c326609c-f231-409f-9b5a-aa977c21beb0",
   "metadata": {},
   "outputs": [
    {
     "name": "stdout",
     "output_type": "stream",
     "text": [
      "[[0 1 2]\n",
      " [3 4 5]\n",
      " [6 7 8]]\n"
     ]
    }
   ],
   "source": [
    "                                     # Create a 4x4 array\n",
    "arr4 = np.arange(16).reshape(4, 4)\n",
    "print(arr)"
   ]
  },
  {
   "cell_type": "code",
   "execution_count": 28,
   "id": "ff14cc17-3065-4ac0-a811-6f8d3cec47a8",
   "metadata": {},
   "outputs": [
    {
     "name": "stdout",
     "output_type": "stream",
     "text": [
      "7\n"
     ]
    }
   ],
   "source": [
    "                                     # Indexing\n",
    "element_value = arr[2, 1]\n",
    "print(element_value)"
   ]
  },
  {
   "cell_type": "code",
   "execution_count": 31,
   "id": "11606593-af59-4c9f-87a5-b64953ec2b9e",
   "metadata": {},
   "outputs": [
    {
     "name": "stdout",
     "output_type": "stream",
     "text": [
      "[[1 2]\n",
      " [4 5]]\n"
     ]
    }
   ],
   "source": [
    "                                     # Slicing\n",
    "slice_array = arr[:2, 1:]\n",
    "print(slice_array)"
   ]
  },
  {
   "cell_type": "code",
   "execution_count": 37,
   "id": "f8603508-98a1-4c64-9e9d-4c4c9d845ea5",
   "metadata": {},
   "outputs": [
    {
     "name": "stdout",
     "output_type": "stream",
     "text": [
      "[[ 0  1  2  3  4  5  6  7]\n",
      " [ 8  9 10 11 12 13 14 15]]\n"
     ]
    }
   ],
   "source": [
    "                                  # Reshaping\n",
    "reshaped_array = arr4.reshape(2, 8)\n",
    "print(reshaped_array)"
   ]
  },
  {
   "cell_type": "markdown",
   "id": "e101c8c7-1821-44f9-b8d5-5c331b71c752",
   "metadata": {},
   "source": [
    "                              Data Aggregation"
   ]
  },
  {
   "cell_type": "code",
   "execution_count": 38,
   "id": "4237798d-d62a-4124-84e9-b9fd018e3315",
   "metadata": {},
   "outputs": [
    {
     "name": "stdout",
     "output_type": "stream",
     "text": [
      "7.5\n"
     ]
    }
   ],
   "source": [
    "mean_value = np.mean(arr4)\n",
    "print(mean_value)"
   ]
  },
  {
   "cell_type": "code",
   "execution_count": 39,
   "id": "59fc50ff-8d09-4f3c-8f09-b5371cb6b03b",
   "metadata": {},
   "outputs": [
    {
     "name": "stdout",
     "output_type": "stream",
     "text": [
      "7.5\n"
     ]
    }
   ],
   "source": [
    "median_value = np.median(arr4)\n",
    "print(median_value)"
   ]
  },
  {
   "cell_type": "code",
   "execution_count": 41,
   "id": "762c0e37-a44e-497c-b4d2-515a275d9179",
   "metadata": {},
   "outputs": [
    {
     "name": "stdout",
     "output_type": "stream",
     "text": [
      "4.6097722286464435\n"
     ]
    }
   ],
   "source": [
    "std_dev = np.std(arr4)\n",
    "print(std_dev)"
   ]
  },
  {
   "cell_type": "code",
   "execution_count": 46,
   "id": "b12b7bd7-68b5-42c7-8b2c-4e688406f2ac",
   "metadata": {},
   "outputs": [
    {
     "name": "stdout",
     "output_type": "stream",
     "text": [
      "120\n"
     ]
    }
   ],
   "source": [
    "sum_total = np.sum(arr4)\n",
    "print(sum_total)"
   ]
  },
  {
   "cell_type": "code",
   "execution_count": 48,
   "id": "9d227cab-5a3e-48c2-9b8b-16c2b4f2e5ba",
   "metadata": {},
   "outputs": [
    {
     "name": "stdout",
     "output_type": "stream",
     "text": [
      "[0 2 4 6 8]\n",
      "[1 3 5 7]\n"
     ]
    }
   ],
   "source": [
    "                            # Grouping\n",
    "even_number = arr[arr % 2 == 0]\n",
    "print(even_numbers)\n",
    "odd_number = arr[arr % 2 != 0]\n",
    "print(odd_numbers)"
   ]
  },
  {
   "cell_type": "code",
   "execution_count": 49,
   "id": "dfb8ed8d-e1a0-4c99-9d75-c45fd15d03a0",
   "metadata": {},
   "outputs": [
    {
     "name": "stdout",
     "output_type": "stream",
     "text": [
      "20\n",
      "16\n"
     ]
    }
   ],
   "source": [
    "                             # Aggregation on groups\n",
    "sum_even = np.sum(even_number)\n",
    "print(sum_even)\n",
    "sum_odd = np.sum(odd_number)\n",
    "print(sum_odd)"
   ]
  },
  {
   "cell_type": "markdown",
   "id": "91534feb-913e-4cf1-bcd5-2d4ccb61452a",
   "metadata": {},
   "source": [
    "                               Data Analysis"
   ]
  },
  {
   "cell_type": "code",
   "execution_count": 51,
   "id": "959b975b-72d8-459e-98e5-df1e0302575b",
   "metadata": {},
   "outputs": [],
   "source": [
    "data_size = 1000\n",
    "arr1 = np.random.uniform(1, 1000, data_size)\n",
    "arr2 = np.random.uniform(1, 1000, data_size)"
   ]
  },
  {
   "cell_type": "code",
   "execution_count": 52,
   "id": "31e8731e-2020-49e8-bb5e-b29fd01c75ea",
   "metadata": {},
   "outputs": [
    {
     "name": "stdout",
     "output_type": "stream",
     "text": [
      "Correlation Coefficient between arr1 and arr2: -0.052123106335290006\n"
     ]
    }
   ],
   "source": [
    "    # Calculate the correlation coefficient between arr1 and arr2\n",
    "correlation_matrix = np.corrcoef(arr1, arr2)\n",
    "correlation = correlation_matrix[0, 1]\n",
    "print(\"Correlation Coefficient between arr1 and arr2:\", correlation)"
   ]
  },
  {
   "cell_type": "code",
   "execution_count": 59,
   "id": "2c43c2fc-afeb-4fe5-96d1-f9038d253670",
   "metadata": {},
   "outputs": [
    {
     "name": "stdout",
     "output_type": "stream",
     "text": [
      "[-0.4857185  -0.45234853 -0.41897856 -0.38560858  2.81790887 -0.31886864\n",
      " -0.28549866 -0.25212869 -0.21875871]\n"
     ]
    }
   ],
   "source": [
    "data1 = np.array([1, 2, 3, 4, 100, 6, 7, 8, 9])\n",
    "# Calculate the z-scores\n",
    "z_scores = (data1 - np.mean(data1)) / np.std(data1)\n",
    "print(z_scores)"
   ]
  },
  {
   "cell_type": "code",
   "execution_count": 61,
   "id": "9d76db17-298f-4aa0-8b8f-bf98a57cf43e",
   "metadata": {},
   "outputs": [
    {
     "name": "stdout",
     "output_type": "stream",
     "text": [
      "[100]\n"
     ]
    }
   ],
   "source": [
    "outliers = data1[np.abs(z_scores) > 2]\n",
    "print(outliers)"
   ]
  },
  {
   "cell_type": "code",
   "execution_count": 64,
   "id": "b3ce96a7-7d58-4ad4-87fb-0312c861761d",
   "metadata": {},
   "outputs": [
    {
     "name": "stdout",
     "output_type": "stream",
     "text": [
      "27.200000000000017\n"
     ]
    }
   ],
   "source": [
    "                              # Calculate percentiles\n",
    "percentile_90 = np.percentile(data1, 90)\n",
    "print(percentile_90)"
   ]
  },
  {
   "cell_type": "markdown",
   "id": "295c2ff1-3104-4590-85f0-b957ce0b4c87",
   "metadata": {},
   "source": [
    "                                       Application in Data Science: "
   ]
  },
  {
   "cell_type": "raw",
   "id": "e6a0f65f-be03-42a8-a95e-08b9840cfa77",
   "metadata": {},
   "source": [
    "                The Benefits of Using NumPy for Data Analysis\n",
    "                                                                                                                                                                                        NumPy is a foundational library for numerical computations in Python, offering a robust and efficient platform for data analysis. Its capabilities significantly enhance the work of data science professionals by providing tools that are optimized for performance and scalability. Below, we'll discuss how NumPy benefits data analysis and compare it to traditional Python data structures, followed by real-world applications where NumPy's capabilities are crucial."
   ]
  },
  {
   "cell_type": "raw",
   "id": "5dffdf16-a3a6-4a60-8101-fc4a38f3666a",
   "metadata": {},
   "source": [
    "                      Advantages of NumPy Over Traditional Python Data Structures\n",
    "1.Speed: NumPy arrays are much faster than Python lists, especially for large datasets, due to its C-based implementation.\n",
    "\n",
    "2.Vectorized Computations: NumPy allows operations on entire arrays at once, eliminating the need for explicit loops and improving efficiency.\n",
    "\n",
    "3.Memory Efficiency: NumPy’s views allow you to manipulate array subsets without copying data, saving memory and improving performance.\n",
    "\n",
    "4.Broadcasting: Enables operations between arrays of different shapes by automatically expanding smaller arrays to fit the larger ones.\n",
    "\n",
    "5.Built-in Statistical Functions: Provides a wide range of optimized functions for fast and easy statistical computations."
   ]
  },
  {
   "cell_type": "raw",
   "id": "6db83863-c8d7-4731-9d2f-5049ecb24358",
   "metadata": {},
   "source": [
    "                               Applications in the Real World\n",
    "1.Machine Learning\n",
    "\n",
    "Model Training: Fast computations are crucial for training machine learning models, especially with large datasets. NumPy’s efficient handling of large arrays and mathematical operations accelerates the model training process.\n",
    "\n",
    "2.Financial Analysis\n",
    "\n",
    "Risk Management: Financial analysts use NumPy for tasks like portfolio optimization and risk assessment. Its speed and statistical functions are vital for handling large volumes of financial data and performing complex calculations.\n",
    "\n",
    "3.Scientific Research\n",
    "\n",
    "Data Simulation and Modeling: Researchers use NumPy for simulations and mathematical modeling in fields such as physics and engineering. The ability to perform fast and accurate numerical computations is essential for handling complex scientific problems."
   ]
  },
  {
   "cell_type": "raw",
   "id": "96e427b5-2c61-44fb-82ab-5176c787f9a1",
   "metadata": {},
   "source": [
    "                                           Conclusion\n",
    "NumPy’s capabilities enable data scientists, financial analysts, and researchers to handle and analyze large datasets efficiently, making it indispensable for modern data-driven tasks and scientific research."
   ]
  }
 ],
 "metadata": {
  "kernelspec": {
   "display_name": "Python 3 (ipykernel)",
   "language": "python",
   "name": "python3"
  },
  "language_info": {
   "codemirror_mode": {
    "name": "ipython",
    "version": 3
   },
   "file_extension": ".py",
   "mimetype": "text/x-python",
   "name": "python",
   "nbconvert_exporter": "python",
   "pygments_lexer": "ipython3",
   "version": "3.12.4"
  }
 },
 "nbformat": 4,
 "nbformat_minor": 5
}
